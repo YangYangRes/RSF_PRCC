{
 "cells": [
  {
   "cell_type": "code",
   "execution_count": null,
   "outputs": [],
   "source": [
    "#installing dependencies\n",
    "!pip install pandas\n",
    "!pip install numpy\n",
    "!pip install scikit-survival"
   ],
   "metadata": {
    "collapsed": false
   },
   "id": "4e6f04a36d1f2e85"
  },
  {
   "cell_type": "code",
   "execution_count": 15,
   "id": "initial_id",
   "metadata": {
    "collapsed": true,
    "ExecuteTime": {
     "end_time": "2023-09-30T18:10:20.657181500Z",
     "start_time": "2023-09-30T18:10:20.629079300Z"
    }
   },
   "outputs": [],
   "source": [
    "#importing dependencies\n",
    "import pandas as pd\n",
    "import numpy as np\n",
    "from sksurv.datasets import get_x_y\n",
    "from sksurv.ensemble import RandomSurvivalForest"
   ]
  },
  {
   "cell_type": "code",
   "execution_count": 16,
   "outputs": [
    {
     "data": {
      "text/plain": "RandomSurvivalForest(max_depth=2, min_samples_leaf=10, n_estimators=77,\n                     random_state=7)",
      "text/html": "<style>#sk-container-id-1 {color: black;background-color: white;}#sk-container-id-1 pre{padding: 0;}#sk-container-id-1 div.sk-toggleable {background-color: white;}#sk-container-id-1 label.sk-toggleable__label {cursor: pointer;display: block;width: 100%;margin-bottom: 0;padding: 0.3em;box-sizing: border-box;text-align: center;}#sk-container-id-1 label.sk-toggleable__label-arrow:before {content: \"▸\";float: left;margin-right: 0.25em;color: #696969;}#sk-container-id-1 label.sk-toggleable__label-arrow:hover:before {color: black;}#sk-container-id-1 div.sk-estimator:hover label.sk-toggleable__label-arrow:before {color: black;}#sk-container-id-1 div.sk-toggleable__content {max-height: 0;max-width: 0;overflow: hidden;text-align: left;background-color: #f0f8ff;}#sk-container-id-1 div.sk-toggleable__content pre {margin: 0.2em;color: black;border-radius: 0.25em;background-color: #f0f8ff;}#sk-container-id-1 input.sk-toggleable__control:checked~div.sk-toggleable__content {max-height: 200px;max-width: 100%;overflow: auto;}#sk-container-id-1 input.sk-toggleable__control:checked~label.sk-toggleable__label-arrow:before {content: \"▾\";}#sk-container-id-1 div.sk-estimator input.sk-toggleable__control:checked~label.sk-toggleable__label {background-color: #d4ebff;}#sk-container-id-1 div.sk-label input.sk-toggleable__control:checked~label.sk-toggleable__label {background-color: #d4ebff;}#sk-container-id-1 input.sk-hidden--visually {border: 0;clip: rect(1px 1px 1px 1px);clip: rect(1px, 1px, 1px, 1px);height: 1px;margin: -1px;overflow: hidden;padding: 0;position: absolute;width: 1px;}#sk-container-id-1 div.sk-estimator {font-family: monospace;background-color: #f0f8ff;border: 1px dotted black;border-radius: 0.25em;box-sizing: border-box;margin-bottom: 0.5em;}#sk-container-id-1 div.sk-estimator:hover {background-color: #d4ebff;}#sk-container-id-1 div.sk-parallel-item::after {content: \"\";width: 100%;border-bottom: 1px solid gray;flex-grow: 1;}#sk-container-id-1 div.sk-label:hover label.sk-toggleable__label {background-color: #d4ebff;}#sk-container-id-1 div.sk-serial::before {content: \"\";position: absolute;border-left: 1px solid gray;box-sizing: border-box;top: 0;bottom: 0;left: 50%;z-index: 0;}#sk-container-id-1 div.sk-serial {display: flex;flex-direction: column;align-items: center;background-color: white;padding-right: 0.2em;padding-left: 0.2em;position: relative;}#sk-container-id-1 div.sk-item {position: relative;z-index: 1;}#sk-container-id-1 div.sk-parallel {display: flex;align-items: stretch;justify-content: center;background-color: white;position: relative;}#sk-container-id-1 div.sk-item::before, #sk-container-id-1 div.sk-parallel-item::before {content: \"\";position: absolute;border-left: 1px solid gray;box-sizing: border-box;top: 0;bottom: 0;left: 50%;z-index: -1;}#sk-container-id-1 div.sk-parallel-item {display: flex;flex-direction: column;z-index: 1;position: relative;background-color: white;}#sk-container-id-1 div.sk-parallel-item:first-child::after {align-self: flex-end;width: 50%;}#sk-container-id-1 div.sk-parallel-item:last-child::after {align-self: flex-start;width: 50%;}#sk-container-id-1 div.sk-parallel-item:only-child::after {width: 0;}#sk-container-id-1 div.sk-dashed-wrapped {border: 1px dashed gray;margin: 0 0.4em 0.5em 0.4em;box-sizing: border-box;padding-bottom: 0.4em;background-color: white;}#sk-container-id-1 div.sk-label label {font-family: monospace;font-weight: bold;display: inline-block;line-height: 1.2em;}#sk-container-id-1 div.sk-label-container {text-align: center;}#sk-container-id-1 div.sk-container {/* jupyter's `normalize.less` sets `[hidden] { display: none; }` but bootstrap.min.css set `[hidden] { display: none !important; }` so we also need the `!important` here to be able to override the default hidden behavior on the sphinx rendered scikit-learn.org. See: https://github.com/scikit-learn/scikit-learn/issues/21755 */display: inline-block !important;position: relative;}#sk-container-id-1 div.sk-text-repr-fallback {display: none;}</style><div id=\"sk-container-id-1\" class=\"sk-top-container\"><div class=\"sk-text-repr-fallback\"><pre>RandomSurvivalForest(max_depth=2, min_samples_leaf=10, n_estimators=77,\n                     random_state=7)</pre><b>In a Jupyter environment, please rerun this cell to show the HTML representation or trust the notebook. <br />On GitHub, the HTML representation is unable to render, please try loading this page with nbviewer.org.</b></div><div class=\"sk-container\" hidden><div class=\"sk-item\"><div class=\"sk-estimator sk-toggleable\"><input class=\"sk-toggleable__control sk-hidden--visually\" id=\"sk-estimator-id-1\" type=\"checkbox\" checked><label for=\"sk-estimator-id-1\" class=\"sk-toggleable__label sk-toggleable__label-arrow\">RandomSurvivalForest</label><div class=\"sk-toggleable__content\"><pre>RandomSurvivalForest(max_depth=2, min_samples_leaf=10, n_estimators=77,\n                     random_state=7)</pre></div></div></div></div></div>"
     },
     "execution_count": 16,
     "metadata": {},
     "output_type": "execute_result"
    }
   ],
   "source": [
    "#Training the model\n",
    "data_train = pd.read_csv('data_train.csv').iloc[:,2:]\n",
    "X_train,y_train = get_x_y(data_train,attr_labels=['OS','OS.time'],pos_label=1)\n",
    "model = RandomSurvivalForest(random_state=7,n_estimators=77,max_depth=2,min_samples_leaf=10)\n",
    "model.fit(X_train,y_train)"
   ],
   "metadata": {
    "collapsed": false,
    "ExecuteTime": {
     "end_time": "2023-09-30T18:10:21.126917500Z",
     "start_time": "2023-09-30T18:10:20.928527400Z"
    }
   },
   "id": "f8bb86ad41d3a5d0"
  },
  {
   "cell_type": "code",
   "execution_count": 17,
   "outputs": [
    {
     "data": {
      "text/plain": "     OS  OS.time     BIRC5  SERPINH1     MYBL2     TOP2A    KIF20A    TRIP13  \\\n0     1     1364 -0.378459  0.589267  0.067104 -0.249811 -0.221143 -1.290521   \n1     0     1338  1.592359  0.820653  1.659323  1.837652  1.774074  1.030159   \n2     0      341 -0.530108 -0.143472 -0.847763 -0.751195 -0.728407 -0.652156   \n3     1      492 -0.162950  1.222909 -0.014071  0.280813 -0.051735  0.683521   \n4     1     2331 -0.359587 -0.736508  0.014765 -0.268916 -0.257361  0.080354   \n..   ..      ...       ...       ...       ...       ...       ...       ...   \n188   0      823 -0.448161 -0.015316  0.350063 -0.848364 -0.585722  1.095833   \n189   0     2639  0.209276 -0.695778 -0.872224  0.261336  0.258179  0.893999   \n190   0      765 -0.567333  0.735874  0.411393  0.194646 -0.287414 -0.493428   \n191   0     2453 -0.219391  1.001534 -0.579580 -0.036795 -0.390798 -0.482539   \n192   0      845 -0.550157 -0.419013 -0.409204 -0.949193 -0.537529  0.989392   \n\n         RRM2      TPX2     CENPW  \n0   -0.088693 -0.373169 -0.592699  \n1    2.213385  1.594274  0.767041  \n2   -0.589238 -0.902400  0.040194  \n3   -0.337527 -0.015649  0.043491  \n4   -0.238125 -0.216432 -0.624017  \n..        ...       ...       ...  \n188 -0.220042 -0.271812 -1.402089  \n189  0.169131  0.166271 -1.176393  \n190 -0.859165  0.030291 -0.476400  \n191 -0.549901 -0.687209 -0.074111  \n192 -0.776514 -0.548828  0.782605  \n\n[193 rows x 11 columns]",
      "text/html": "<div>\n<style scoped>\n    .dataframe tbody tr th:only-of-type {\n        vertical-align: middle;\n    }\n\n    .dataframe tbody tr th {\n        vertical-align: top;\n    }\n\n    .dataframe thead th {\n        text-align: right;\n    }\n</style>\n<table border=\"1\" class=\"dataframe\">\n  <thead>\n    <tr style=\"text-align: right;\">\n      <th></th>\n      <th>OS</th>\n      <th>OS.time</th>\n      <th>BIRC5</th>\n      <th>SERPINH1</th>\n      <th>MYBL2</th>\n      <th>TOP2A</th>\n      <th>KIF20A</th>\n      <th>TRIP13</th>\n      <th>RRM2</th>\n      <th>TPX2</th>\n      <th>CENPW</th>\n    </tr>\n  </thead>\n  <tbody>\n    <tr>\n      <th>0</th>\n      <td>1</td>\n      <td>1364</td>\n      <td>-0.378459</td>\n      <td>0.589267</td>\n      <td>0.067104</td>\n      <td>-0.249811</td>\n      <td>-0.221143</td>\n      <td>-1.290521</td>\n      <td>-0.088693</td>\n      <td>-0.373169</td>\n      <td>-0.592699</td>\n    </tr>\n    <tr>\n      <th>1</th>\n      <td>0</td>\n      <td>1338</td>\n      <td>1.592359</td>\n      <td>0.820653</td>\n      <td>1.659323</td>\n      <td>1.837652</td>\n      <td>1.774074</td>\n      <td>1.030159</td>\n      <td>2.213385</td>\n      <td>1.594274</td>\n      <td>0.767041</td>\n    </tr>\n    <tr>\n      <th>2</th>\n      <td>0</td>\n      <td>341</td>\n      <td>-0.530108</td>\n      <td>-0.143472</td>\n      <td>-0.847763</td>\n      <td>-0.751195</td>\n      <td>-0.728407</td>\n      <td>-0.652156</td>\n      <td>-0.589238</td>\n      <td>-0.902400</td>\n      <td>0.040194</td>\n    </tr>\n    <tr>\n      <th>3</th>\n      <td>1</td>\n      <td>492</td>\n      <td>-0.162950</td>\n      <td>1.222909</td>\n      <td>-0.014071</td>\n      <td>0.280813</td>\n      <td>-0.051735</td>\n      <td>0.683521</td>\n      <td>-0.337527</td>\n      <td>-0.015649</td>\n      <td>0.043491</td>\n    </tr>\n    <tr>\n      <th>4</th>\n      <td>1</td>\n      <td>2331</td>\n      <td>-0.359587</td>\n      <td>-0.736508</td>\n      <td>0.014765</td>\n      <td>-0.268916</td>\n      <td>-0.257361</td>\n      <td>0.080354</td>\n      <td>-0.238125</td>\n      <td>-0.216432</td>\n      <td>-0.624017</td>\n    </tr>\n    <tr>\n      <th>...</th>\n      <td>...</td>\n      <td>...</td>\n      <td>...</td>\n      <td>...</td>\n      <td>...</td>\n      <td>...</td>\n      <td>...</td>\n      <td>...</td>\n      <td>...</td>\n      <td>...</td>\n      <td>...</td>\n    </tr>\n    <tr>\n      <th>188</th>\n      <td>0</td>\n      <td>823</td>\n      <td>-0.448161</td>\n      <td>-0.015316</td>\n      <td>0.350063</td>\n      <td>-0.848364</td>\n      <td>-0.585722</td>\n      <td>1.095833</td>\n      <td>-0.220042</td>\n      <td>-0.271812</td>\n      <td>-1.402089</td>\n    </tr>\n    <tr>\n      <th>189</th>\n      <td>0</td>\n      <td>2639</td>\n      <td>0.209276</td>\n      <td>-0.695778</td>\n      <td>-0.872224</td>\n      <td>0.261336</td>\n      <td>0.258179</td>\n      <td>0.893999</td>\n      <td>0.169131</td>\n      <td>0.166271</td>\n      <td>-1.176393</td>\n    </tr>\n    <tr>\n      <th>190</th>\n      <td>0</td>\n      <td>765</td>\n      <td>-0.567333</td>\n      <td>0.735874</td>\n      <td>0.411393</td>\n      <td>0.194646</td>\n      <td>-0.287414</td>\n      <td>-0.493428</td>\n      <td>-0.859165</td>\n      <td>0.030291</td>\n      <td>-0.476400</td>\n    </tr>\n    <tr>\n      <th>191</th>\n      <td>0</td>\n      <td>2453</td>\n      <td>-0.219391</td>\n      <td>1.001534</td>\n      <td>-0.579580</td>\n      <td>-0.036795</td>\n      <td>-0.390798</td>\n      <td>-0.482539</td>\n      <td>-0.549901</td>\n      <td>-0.687209</td>\n      <td>-0.074111</td>\n    </tr>\n    <tr>\n      <th>192</th>\n      <td>0</td>\n      <td>845</td>\n      <td>-0.550157</td>\n      <td>-0.419013</td>\n      <td>-0.409204</td>\n      <td>-0.949193</td>\n      <td>-0.537529</td>\n      <td>0.989392</td>\n      <td>-0.776514</td>\n      <td>-0.548828</td>\n      <td>0.782605</td>\n    </tr>\n  </tbody>\n</table>\n<p>193 rows × 11 columns</p>\n</div>"
     },
     "execution_count": 17,
     "metadata": {},
     "output_type": "execute_result"
    }
   ],
   "source": [
    "data_train"
   ],
   "metadata": {
    "collapsed": false,
    "ExecuteTime": {
     "end_time": "2023-09-30T18:10:24.172573400Z",
     "start_time": "2023-09-30T18:10:24.092155600Z"
    }
   },
   "id": "1d140f6fa12f0fe6"
  },
  {
   "cell_type": "code",
   "execution_count": 18,
   "outputs": [
    {
     "data": {
      "text/plain": "        BIRC5  SERPINH1     MYBL2     TOP2A    KIF20A    TRIP13      RRM2  \\\n0   -0.378459  0.589267  0.067104 -0.249811 -0.221143 -1.290521 -0.088693   \n1    1.592359  0.820653  1.659323  1.837652  1.774074  1.030159  2.213385   \n2   -0.530108 -0.143472 -0.847763 -0.751195 -0.728407 -0.652156 -0.589238   \n3   -0.162950  1.222909 -0.014071  0.280813 -0.051735  0.683521 -0.337527   \n4   -0.359587 -0.736508  0.014765 -0.268916 -0.257361  0.080354 -0.238125   \n..        ...       ...       ...       ...       ...       ...       ...   \n188 -0.448161 -0.015316  0.350063 -0.848364 -0.585722  1.095833 -0.220042   \n189  0.209276 -0.695778 -0.872224  0.261336  0.258179  0.893999  0.169131   \n190 -0.567333  0.735874  0.411393  0.194646 -0.287414 -0.493428 -0.859165   \n191 -0.219391  1.001534 -0.579580 -0.036795 -0.390798 -0.482539 -0.549901   \n192 -0.550157 -0.419013 -0.409204 -0.949193 -0.537529  0.989392 -0.776514   \n\n         TPX2     CENPW  \n0   -0.373169 -0.592699  \n1    1.594274  0.767041  \n2   -0.902400  0.040194  \n3   -0.015649  0.043491  \n4   -0.216432 -0.624017  \n..        ...       ...  \n188 -0.271812 -1.402089  \n189  0.166271 -1.176393  \n190  0.030291 -0.476400  \n191 -0.687209 -0.074111  \n192 -0.548828  0.782605  \n\n[193 rows x 9 columns]",
      "text/html": "<div>\n<style scoped>\n    .dataframe tbody tr th:only-of-type {\n        vertical-align: middle;\n    }\n\n    .dataframe tbody tr th {\n        vertical-align: top;\n    }\n\n    .dataframe thead th {\n        text-align: right;\n    }\n</style>\n<table border=\"1\" class=\"dataframe\">\n  <thead>\n    <tr style=\"text-align: right;\">\n      <th></th>\n      <th>BIRC5</th>\n      <th>SERPINH1</th>\n      <th>MYBL2</th>\n      <th>TOP2A</th>\n      <th>KIF20A</th>\n      <th>TRIP13</th>\n      <th>RRM2</th>\n      <th>TPX2</th>\n      <th>CENPW</th>\n    </tr>\n  </thead>\n  <tbody>\n    <tr>\n      <th>0</th>\n      <td>-0.378459</td>\n      <td>0.589267</td>\n      <td>0.067104</td>\n      <td>-0.249811</td>\n      <td>-0.221143</td>\n      <td>-1.290521</td>\n      <td>-0.088693</td>\n      <td>-0.373169</td>\n      <td>-0.592699</td>\n    </tr>\n    <tr>\n      <th>1</th>\n      <td>1.592359</td>\n      <td>0.820653</td>\n      <td>1.659323</td>\n      <td>1.837652</td>\n      <td>1.774074</td>\n      <td>1.030159</td>\n      <td>2.213385</td>\n      <td>1.594274</td>\n      <td>0.767041</td>\n    </tr>\n    <tr>\n      <th>2</th>\n      <td>-0.530108</td>\n      <td>-0.143472</td>\n      <td>-0.847763</td>\n      <td>-0.751195</td>\n      <td>-0.728407</td>\n      <td>-0.652156</td>\n      <td>-0.589238</td>\n      <td>-0.902400</td>\n      <td>0.040194</td>\n    </tr>\n    <tr>\n      <th>3</th>\n      <td>-0.162950</td>\n      <td>1.222909</td>\n      <td>-0.014071</td>\n      <td>0.280813</td>\n      <td>-0.051735</td>\n      <td>0.683521</td>\n      <td>-0.337527</td>\n      <td>-0.015649</td>\n      <td>0.043491</td>\n    </tr>\n    <tr>\n      <th>4</th>\n      <td>-0.359587</td>\n      <td>-0.736508</td>\n      <td>0.014765</td>\n      <td>-0.268916</td>\n      <td>-0.257361</td>\n      <td>0.080354</td>\n      <td>-0.238125</td>\n      <td>-0.216432</td>\n      <td>-0.624017</td>\n    </tr>\n    <tr>\n      <th>...</th>\n      <td>...</td>\n      <td>...</td>\n      <td>...</td>\n      <td>...</td>\n      <td>...</td>\n      <td>...</td>\n      <td>...</td>\n      <td>...</td>\n      <td>...</td>\n    </tr>\n    <tr>\n      <th>188</th>\n      <td>-0.448161</td>\n      <td>-0.015316</td>\n      <td>0.350063</td>\n      <td>-0.848364</td>\n      <td>-0.585722</td>\n      <td>1.095833</td>\n      <td>-0.220042</td>\n      <td>-0.271812</td>\n      <td>-1.402089</td>\n    </tr>\n    <tr>\n      <th>189</th>\n      <td>0.209276</td>\n      <td>-0.695778</td>\n      <td>-0.872224</td>\n      <td>0.261336</td>\n      <td>0.258179</td>\n      <td>0.893999</td>\n      <td>0.169131</td>\n      <td>0.166271</td>\n      <td>-1.176393</td>\n    </tr>\n    <tr>\n      <th>190</th>\n      <td>-0.567333</td>\n      <td>0.735874</td>\n      <td>0.411393</td>\n      <td>0.194646</td>\n      <td>-0.287414</td>\n      <td>-0.493428</td>\n      <td>-0.859165</td>\n      <td>0.030291</td>\n      <td>-0.476400</td>\n    </tr>\n    <tr>\n      <th>191</th>\n      <td>-0.219391</td>\n      <td>1.001534</td>\n      <td>-0.579580</td>\n      <td>-0.036795</td>\n      <td>-0.390798</td>\n      <td>-0.482539</td>\n      <td>-0.549901</td>\n      <td>-0.687209</td>\n      <td>-0.074111</td>\n    </tr>\n    <tr>\n      <th>192</th>\n      <td>-0.550157</td>\n      <td>-0.419013</td>\n      <td>-0.409204</td>\n      <td>-0.949193</td>\n      <td>-0.537529</td>\n      <td>0.989392</td>\n      <td>-0.776514</td>\n      <td>-0.548828</td>\n      <td>0.782605</td>\n    </tr>\n  </tbody>\n</table>\n<p>193 rows × 9 columns</p>\n</div>"
     },
     "execution_count": 18,
     "metadata": {},
     "output_type": "execute_result"
    }
   ],
   "source": [
    "X_train"
   ],
   "metadata": {
    "collapsed": false,
    "ExecuteTime": {
     "end_time": "2023-09-30T18:10:25.137843900Z",
     "start_time": "2023-09-30T18:10:25.044453300Z"
    }
   },
   "id": "e3b98be96be03737"
  },
  {
   "cell_type": "code",
   "execution_count": 19,
   "outputs": [
    {
     "data": {
      "text/plain": "array([( True, 1364.), (False, 1338.), (False,  341.), ( True,  492.),\n       ( True, 2331.), (False,  586.), (False, 1981.), (False,  671.),\n       (False,  116.), (False, 2228.), ( True,  139.), (False, 1795.),\n       (False,  729.), (False,  484.), (False, 2492.), (False, 2167.),\n       (False, 2029.), (False, 2298.), (False,  378.), (False, 2816.),\n       (False,  778.), ( True, 1557.), (False,  506.), ( True, 1314.),\n       (False,  364.), (False,  436.), (False, 2392.), ( True, 1136.),\n       (False,  740.), (False,  161.), (False,  791.), ( True,  697.),\n       (False,  214.), (False,  612.), (False, 1567.), (False, 1357.),\n       (False, 2477.), (False, 1457.), (False,  388.), (False, 1857.),\n       (False, 1213.), (False,  548.), (False,  547.), (False,  767.),\n       (False,  803.), (False, 3571.), (False, 1266.), (False,  546.),\n       (False, 1539.), (False, 2060.), (False,  947.), (False, 1049.),\n       (False,  709.), ( True, 1468.), (False,  927.), ( True,  487.),\n       (False, 1093.), (False,  930.), (False, 1240.), (False,  516.),\n       (False, 2839.), (False,  578.), (False,  768.), (False,  924.),\n       (False, 2948.), (False,  780.), (False,  597.), (False, 1242.),\n       (False, 1141.), (False, 2649.), ( True, 1771.), ( True, 2624.),\n       (False,  112.), (False,  616.), (False,  392.), ( True,  293.),\n       ( True, 1070.), (False,  414.), (False,  567.), ( True,  329.),\n       (False,  771.), (False,  238.), (False,  428.), (False, 3035.),\n       ( True, 1498.), (False, 1590.), (False, 1864.), ( True, 1500.),\n       ( True,  343.), (False,  949.), (False,  677.), (False, 1615.),\n       (False,  218.), (False, 1110.), (False,  374.), (False,  475.),\n       (False,  497.), (False,  649.), (False, 3152.), ( True,  122.),\n       ( True,  395.), (False, 1504.), (False,  114.), (False, 1444.),\n       (False, 1662.), (False,  309.), (False,  361.), (False,  608.),\n       (False,  395.), (False, 1906.), (False,  233.), (False,  560.),\n       (False, 1186.), (False,  404.), (False, 2460.), (False, 1043.),\n       (False,  554.), (False,  347.), (False,  885.), (False,   36.),\n       (False,  390.), (False, 1911.), (False, 1257.), (False,  379.),\n       (False,  893.), (False, 1938.), (False,  792.), (False,  582.),\n       (False, 1188.), ( True,  496.), (False, 2135.), (False, 1728.),\n       (False,  921.), ( True,  514.), (False,  799.), ( True,  589.),\n       (False,  708.), (False, 3368.), (False, 2191.), (False,  665.),\n       (False,  540.), (False,   35.), (False,  650.), (False, 2582.),\n       (False, 1060.), (False, 2167.), (False, 1454.), ( True, 2043.),\n       (False, 1194.), (False,  934.), ( True, 1306.), (False,  659.),\n       (False,  214.), (False, 2043.), (False, 1309.), (False,   32.),\n       (False,  393.), (False, 3050.), (False,  307.), ( True, 1508.),\n       (False,  730.), (False,  841.), (False,  379.), (False,  578.),\n       (False,  232.), (False,  352.), (False, 1076.), (False,  511.),\n       (False,  702.), ( True,  336.), (False, 1040.), (False, 2400.),\n       (False,   92.), (False, 5925.), (False,  616.), (False,  585.),\n       (False,  627.), (False,  479.), (False,  744.), ( True, 2684.),\n       (False,  841.), ( True,  270.), (False,  567.), (False,  824.),\n       (False,  677.), (False,  786.), (False, 1006.), (False, 1486.),\n       (False,  823.), (False, 2639.), (False,  765.), (False, 2453.),\n       (False,  845.)], dtype=[('OS', '?'), ('OS.time', '<f8')])"
     },
     "execution_count": 19,
     "metadata": {},
     "output_type": "execute_result"
    }
   ],
   "source": [
    "y_train"
   ],
   "metadata": {
    "collapsed": false,
    "ExecuteTime": {
     "end_time": "2023-09-30T18:10:28.720585700Z",
     "start_time": "2023-09-30T18:10:28.701418800Z"
    }
   },
   "id": "fedeefc7691a2a1"
  },
  {
   "cell_type": "code",
   "execution_count": 20,
   "outputs": [],
   "source": [
    "#load patient-specific gene expression levels (in Log2(TPM+1) format).\n",
    "sample = pd.read_csv('sample.csv')"
   ],
   "metadata": {
    "collapsed": false,
    "ExecuteTime": {
     "end_time": "2023-09-30T19:00:50.468633100Z",
     "start_time": "2023-09-30T19:00:50.377255900Z"
    }
   },
   "id": "a8cd46fe60827985"
  },
  {
   "cell_type": "code",
   "execution_count": 21,
   "outputs": [
    {
     "data": {
      "text/plain": "      BIRC5  SERPINH1     MYBL2     TOP2A    KIF20A    TRIP13      RRM2  \\\n0  0.536162  5.368972  0.941602  0.506801  0.519891  1.676888  0.636436   \n\n       TPX2     CENPW  \n0  1.182827  2.246083  ",
      "text/html": "<div>\n<style scoped>\n    .dataframe tbody tr th:only-of-type {\n        vertical-align: middle;\n    }\n\n    .dataframe tbody tr th {\n        vertical-align: top;\n    }\n\n    .dataframe thead th {\n        text-align: right;\n    }\n</style>\n<table border=\"1\" class=\"dataframe\">\n  <thead>\n    <tr style=\"text-align: right;\">\n      <th></th>\n      <th>BIRC5</th>\n      <th>SERPINH1</th>\n      <th>MYBL2</th>\n      <th>TOP2A</th>\n      <th>KIF20A</th>\n      <th>TRIP13</th>\n      <th>RRM2</th>\n      <th>TPX2</th>\n      <th>CENPW</th>\n    </tr>\n  </thead>\n  <tbody>\n    <tr>\n      <th>0</th>\n      <td>0.536162</td>\n      <td>5.368972</td>\n      <td>0.941602</td>\n      <td>0.506801</td>\n      <td>0.519891</td>\n      <td>1.676888</td>\n      <td>0.636436</td>\n      <td>1.182827</td>\n      <td>2.246083</td>\n    </tr>\n  </tbody>\n</table>\n</div>"
     },
     "execution_count": 21,
     "metadata": {},
     "output_type": "execute_result"
    }
   ],
   "source": [
    "sample"
   ],
   "metadata": {
    "collapsed": false,
    "ExecuteTime": {
     "end_time": "2023-09-30T19:00:52.281068200Z",
     "start_time": "2023-09-30T19:00:52.241938900Z"
    }
   },
   "id": "7a46672c547c5c1c"
  },
  {
   "cell_type": "code",
   "execution_count": 22,
   "outputs": [],
   "source": [
    "#standardization\n",
    "sample.iloc[:,0] = (sample.iloc[:,0]-1.995207)/1.103419\n",
    "sample.iloc[:,1] = (sample.iloc[:,1]-6.61065)/0.7526017\n",
    "sample.iloc[:,2] = (sample.iloc[:,2]-2.343361)/1.226942\n",
    "sample.iloc[:,3] = (sample.iloc[:,3]-2.53183)/1.364789\n",
    "sample.iloc[:,4] = (sample.iloc[:,4]-1.577851)/1.022743\n",
    "sample.iloc[:,5] = (sample.iloc[:,5]-2.079514)/0.8572958\n",
    "sample.iloc[:,6] = (sample.iloc[:,6]-2.060013)/1.158534\n",
    "sample.iloc[:,7] = (sample.iloc[:,7]-2.590915)/1.184786\n",
    "sample.iloc[:,8] = (sample.iloc[:,8]-3.114)/0.738882"
   ],
   "metadata": {
    "collapsed": false,
    "ExecuteTime": {
     "end_time": "2023-09-30T19:07:16.845755300Z",
     "start_time": "2023-09-30T19:07:16.804325Z"
    }
   },
   "id": "dfb872781d8c8ba4"
  },
  {
   "cell_type": "code",
   "execution_count": 23,
   "outputs": [
    {
     "data": {
      "text/plain": "      BIRC5  SERPINH1     MYBL2     TOP2A    KIF20A    TRIP13      RRM2  \\\n0 -1.322295 -1.649847 -1.142482 -1.483767 -1.034433 -0.469647 -1.228775   \n\n       TPX2     CENPW  \n0 -1.188475 -1.174636  ",
      "text/html": "<div>\n<style scoped>\n    .dataframe tbody tr th:only-of-type {\n        vertical-align: middle;\n    }\n\n    .dataframe tbody tr th {\n        vertical-align: top;\n    }\n\n    .dataframe thead th {\n        text-align: right;\n    }\n</style>\n<table border=\"1\" class=\"dataframe\">\n  <thead>\n    <tr style=\"text-align: right;\">\n      <th></th>\n      <th>BIRC5</th>\n      <th>SERPINH1</th>\n      <th>MYBL2</th>\n      <th>TOP2A</th>\n      <th>KIF20A</th>\n      <th>TRIP13</th>\n      <th>RRM2</th>\n      <th>TPX2</th>\n      <th>CENPW</th>\n    </tr>\n  </thead>\n  <tbody>\n    <tr>\n      <th>0</th>\n      <td>-1.322295</td>\n      <td>-1.649847</td>\n      <td>-1.142482</td>\n      <td>-1.483767</td>\n      <td>-1.034433</td>\n      <td>-0.469647</td>\n      <td>-1.228775</td>\n      <td>-1.188475</td>\n      <td>-1.174636</td>\n    </tr>\n  </tbody>\n</table>\n</div>"
     },
     "execution_count": 23,
     "metadata": {},
     "output_type": "execute_result"
    }
   ],
   "source": [
    "sample"
   ],
   "metadata": {
    "collapsed": false,
    "ExecuteTime": {
     "end_time": "2023-09-30T19:07:18.423896300Z",
     "start_time": "2023-09-30T19:07:18.389250300Z"
    }
   },
   "id": "9f1e57dcf40d88df"
  },
  {
   "cell_type": "code",
   "execution_count": 26,
   "outputs": [
    {
     "name": "stdout",
     "output_type": "stream",
     "text": [
      "Low-risk\n"
     ]
    }
   ],
   "source": [
    "#evaluating patient risk level\n",
    "score_sample = model.predict(sample)\n",
    "if score_sample >= 3.389962:\n",
    "    print('High-risk')\n",
    "else:\n",
    "    print('Low-risk')"
   ],
   "metadata": {
    "collapsed": false,
    "ExecuteTime": {
     "end_time": "2023-09-30T19:12:18.802678900Z",
     "start_time": "2023-09-30T19:12:18.744131100Z"
    }
   },
   "id": "f90645096ee792f5"
  },
  {
   "cell_type": "code",
   "execution_count": 37,
   "outputs": [
    {
     "name": "stdout",
     "output_type": "stream",
     "text": [
      "1-year survival probability = 0.990\n",
      "3-year survival probability = 0.978\n",
      "5-year survival probability = 0.878\n"
     ]
    }
   ],
   "source": [
    "#showing 1-year, 3-year, and 5-year survival probability\n",
    "live_possi = pd.DataFrame(model.predict_survival_function(sample,return_array=True))\n",
    "print('1-year survival probability = {:.3f}'.format(float(live_possi.iloc[0,26])))\n",
    "print('3-year survival probability = {:.3f}'.format(float(live_possi.iloc[0,112])))\n",
    "print('5-year survival probability = {:.3f}'.format(float(live_possi.iloc[0,148])))"
   ],
   "metadata": {
    "collapsed": false,
    "ExecuteTime": {
     "end_time": "2023-09-30T19:18:55.354723500Z",
     "start_time": "2023-09-30T19:18:55.323937100Z"
    }
   },
   "id": "9f9f35738c256490"
  },
  {
   "cell_type": "code",
   "execution_count": null,
   "outputs": [],
   "source": [],
   "metadata": {
    "collapsed": false
   },
   "id": "91a49630cc9fc533"
  }
 ],
 "metadata": {
  "kernelspec": {
   "display_name": "Python 3",
   "language": "python",
   "name": "python3"
  },
  "language_info": {
   "codemirror_mode": {
    "name": "ipython",
    "version": 2
   },
   "file_extension": ".py",
   "mimetype": "text/x-python",
   "name": "python",
   "nbconvert_exporter": "python",
   "pygments_lexer": "ipython2",
   "version": "2.7.6"
  }
 },
 "nbformat": 4,
 "nbformat_minor": 5
}
